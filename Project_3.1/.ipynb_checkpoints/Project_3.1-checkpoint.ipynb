{
 "cells": [
  {
   "cell_type": "code",
   "execution_count": 13,
   "metadata": {
    "collapsed": true
   },
   "outputs": [],
   "source": [
    "import xml.etree.ElementTree as ET\n",
    "from pprint import pprint\n",
    "import operator\n",
    "\n",
    "filename = 'sydney.osm'\n",
    "top_20keys = []"
   ]
  },
  {
   "cell_type": "code",
   "execution_count": 10,
   "metadata": {
    "collapsed": true
   },
   "outputs": [],
   "source": [
    "\"\"\"Count total number of each tag\"\"\"\n",
    "def count_tags(filename):\n",
    "\n",
    "        osm_file = open(filename, \"r\")\n",
    "        tag_types = {}\n",
    "        \n",
    "        for event, elem in ET.iterparse(filename):\n",
    "\n",
    "            if elem.tag not in tag_types:\n",
    "                tag_types[elem.tag] = 1\n",
    "            else:\n",
    "                tag_types[elem.tag] +=1\n",
    "\n",
    "        return tag_types\n",
    "\n",
    "def count_keys(filename):\n",
    "        osm_file = open(filename, \"r\")\n",
    "        key_types = {}\n",
    "        \n",
    "        for event, elem in ET.iterparse(filename):\n",
    "            # only parse all key name under tag element\n",
    "            if elem.tag == \"tag\" and 'k' in elem.attrib:                \n",
    "                v = elem.get('k')\n",
    "                if v not in key_types:\n",
    "                    key_types[v] = 1\n",
    "                else:\n",
    "                    key_types[v] +=1\n",
    "        \n",
    "        return key_types"
   ]
  },
  {
   "cell_type": "code",
   "execution_count": 24,
   "metadata": {
    "collapsed": false
   },
   "outputs": [],
   "source": [
    "def main():\n",
    "    \"\"\"main function\"\"\"\n",
    "    if False:\n",
    "        tags = count_tags(filename)\n",
    "        # print all tag\n",
    "        pprint(tags)\n",
    "    if True:\n",
    "        keys = count_keys(filename)\n",
    "        #sort keys\n",
    "        sorted_keys = sorted(keys.items(), key=operator.itemgetter(1))\n",
    "        sorted_keys.reverse()\n",
    "        # print top 20 keys\n",
    "        for i in range(0,20):\n",
    "            top_20keys.append\n",
    "            print sorted_keys[i]\n",
    "    "
   ]
  },
  {
   "cell_type": "code",
   "execution_count": 25,
   "metadata": {
    "collapsed": false
   },
   "outputs": [
    {
     "name": "stdout",
     "output_type": "stream",
     "text": [
      "('highway', 101473)\n",
      "('source', 70279)\n",
      "('name', 49425)\n",
      "('building', 22720)\n",
      "('created_by', 17323)\n",
      "('oneway', 13463)\n",
      "('maxspeed', 11432)\n",
      "('addr:street', 10501)\n",
      "('amenity', 9798)\n",
      "('surface', 8521)\n",
      "('foot', 7053)\n",
      "('leisure', 5077)\n",
      "('layer', 4783)\n",
      "('bicycle', 4743)\n",
      "('ref', 4649)\n",
      "('source:name', 4443)\n",
      "('service', 3927)\n",
      "('railway', 3295)\n",
      "('landuse', 3242)\n",
      "('operator', 3138)\n"
     ]
    }
   ],
   "source": [
    "if __name__ == \"__main__\":\n",
    "    main()"
   ]
  },
  {
   "cell_type": "code",
   "execution_count": null,
   "metadata": {
    "collapsed": true
   },
   "outputs": [],
   "source": []
  }
 ],
 "metadata": {
  "kernelspec": {
   "display_name": "Python 2",
   "language": "python",
   "name": "python2"
  },
  "language_info": {
   "codemirror_mode": {
    "name": "ipython",
    "version": 2
   },
   "file_extension": ".py",
   "mimetype": "text/x-python",
   "name": "python",
   "nbconvert_exporter": "python",
   "pygments_lexer": "ipython2",
   "version": "2.7.11"
  }
 },
 "nbformat": 4,
 "nbformat_minor": 0
}
