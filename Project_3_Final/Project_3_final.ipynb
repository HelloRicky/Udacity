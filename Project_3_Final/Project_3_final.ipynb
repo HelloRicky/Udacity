{
 "cells": [
  {
   "cell_type": "code",
   "execution_count": 40,
   "metadata": {
    "collapsed": true
   },
   "outputs": [],
   "source": [
    "import xml.etree.ElementTree as ET\n",
    "from collections import defaultdict\n",
    "from pprint import pprint\n",
    "import operator\n",
    "import re\n",
    "\n",
    "filename = 'sydney_sample.osm'\n",
    "top_20keys = []\n",
    "street_type_re = re.compile(r'\\b\\S+\\.?$', re.IGNORECASE)"
   ]
  },
  {
   "cell_type": "markdown",
   "metadata": {},
   "source": [
    "# Function"
   ]
  },
  {
   "cell_type": "code",
   "execution_count": 52,
   "metadata": {
    "collapsed": false
   },
   "outputs": [],
   "source": [
    "\"\"\"Count total number of each tag\"\"\"\n",
    "def count_tags(filename):\n",
    "\n",
    "        osm_file = open(filename, \"r\")\n",
    "        tag_types = {}\n",
    "        \n",
    "        for event, elem in ET.iterparse(filename):\n",
    "\n",
    "            if elem.tag not in tag_types:\n",
    "                tag_types[elem.tag] = 1\n",
    "            else:\n",
    "                tag_types[elem.tag] +=1\n",
    "\n",
    "        return tag_types\n",
    "\n",
    "def count_keys(filename):\n",
    "        osm_file = open(filename, \"r\")\n",
    "        key_types = {}\n",
    "        \n",
    "        for event, elem in ET.iterparse(filename):\n",
    "            # only parse all key name under tag element\n",
    "            if elem.tag == \"tag\" and 'k' in elem.attrib:                \n",
    "                v = elem.get('k')\n",
    "                if v not in key_types:\n",
    "                    key_types[v] = 1\n",
    "                else:\n",
    "                    key_types[v] +=1\n",
    "        \n",
    "        return key_types\n",
    "    \n",
    "# print all tag\n",
    "def print_all_tags(filename):\n",
    "    tags = count_tags(filename)    \n",
    "    pprint(tags)\n",
    "    \n",
    "# collect and print top keys from each tag\n",
    "def print_top_keys(filename, keyNum = 20):\n",
    "    keys = count_keys(filename)\n",
    "    #sort keys\n",
    "    sorted_keys = sorted(keys.items(), key=operator.itemgetter(1))\n",
    "    sorted_keys.reverse()\n",
    "    # print top 20 keys\n",
    "    for i in range(0,keyNum):\n",
    "        top_20keys.append\n",
    "        print sorted_keys[i][0]\n",
    "\n",
    "\n",
    "def key_values(top_keys, Max):\n",
    "    result = {k:[] for k in top_keys}\n",
    "    # parse file\n",
    "    osm_file = open(filename, \"r\")\n",
    "    \n",
    "    for event, elem in ET.iterparse(filename):\n",
    "\n",
    "        # only parse all key name under tag element\n",
    "        if elem.tag == \"tag\" and 'k' in elem.attrib and 'v' in elem.attrib:                \n",
    "            k_val = elem.get('k')\n",
    "            v_val = elem.get('v')\n",
    "            # find 20 unique values of the key\n",
    "            if k_val in top_keys and len(result[k_val]) < Max and v_val not in result[k_val]:        \n",
    "                result[k_val].append(v_val)\n",
    "    return result \n",
    "\n",
    "\"\"\"Max Speed\"\"\"\n",
    "\n",
    "\n",
    "def is_maxspeed_name(elem):\n",
    "    return (elem.attrib['k'] == \"maxspeed\")\n",
    "\n",
    "def update_name(speed):\n",
    "    new_sp = 0\n",
    "    try:\n",
    "        val = int(speed)\n",
    "    except:\n",
    "        if speed == 'signals':\n",
    "            # default value for signal sign\n",
    "            new_sp = 80\n",
    "            print speed, \"=>\", new_sp\n",
    "        elif 'knots' in speed or 'mph' in speed:\n",
    "            #convert unit\n",
    "            new_sp = int(speed.split()[0])*2\n",
    "            print speed, \"=>\", new_sp\n",
    "        else:\n",
    "            # remove other values, e.g. \";\" and 'undefined'\n",
    "            pass\n",
    "\n",
    "def improve_maxspeed(osmfile):\n",
    "    osm_file = open(osmfile, \"r\")\n",
    "    for event, elem in ET.iterparse(osm_file, events=(\"start\",)):\n",
    "\n",
    "        if elem.tag == \"node\" or elem.tag == \"way\":\n",
    "            for tag in elem.iter(\"tag\"):\n",
    "                if is_maxspeed_name(tag):\n",
    "                    val = tag.attrib['v']\n",
    "                    update_name(val)\n",
    "                    \n",
    "    osm_file.close()\n",
    "\n",
    "\"\"\"Update Satreet Name\"\"\"\n",
    "\n",
    "expected = [\"Street\", \"Avenue\", \"Boulevard\", \"Drive\", \"Court\", \"Highway\", \"Place\", \"Parade\", \"Square\", \"Lane\", \"Road\", \n",
    "            \"Trail\", \"Parkway\", \"Commons\",\"Row\", \"East\", \"West\", \"Esplanade\", \"Crescent\"]\n",
    "\n",
    "# UPDATE THIS VARIABLE\n",
    "mapping = { \"St\": \"Street\",\n",
    "            \"st\": \"Street\",\n",
    "            \"St.\": \"Street\",\n",
    "            \"Ave.\": \"Avenue\",\n",
    "           \"Av.\": \"Avenue\",\n",
    "           \"Hwy\": \"Highway\",\n",
    "            \"Ave\": \"Avenue\",\n",
    "            \"Rd.\": \"Road\",\n",
    "            \"Rd\": \"Road\"\n",
    "            }\n",
    "\n",
    "def audit_street_type(street_types, street_name):\n",
    "    m = street_type_re.search(street_name)\n",
    "    if m:\n",
    "        street_type = m.group()\n",
    "        if street_type not in expected:\n",
    "            # remove street type that is equal to itself\n",
    "            if street_name != street_type:\n",
    "                street_types[street_type].add(street_name)\n",
    "\n",
    "\n",
    "def is_street_name(elem):\n",
    "    return (elem.attrib['k'] == \"addr:street\")\n",
    "\n",
    "\n",
    "def audit(osmfile):\n",
    "    osm_file = open(osmfile, \"r\")\n",
    "    street_types = defaultdict(set)\n",
    "    for event, elem in ET.iterparse(osm_file, events=(\"start\",)):\n",
    "\n",
    "        if elem.tag == \"node\" or elem.tag == \"way\":\n",
    "            for tag in elem.iter(\"tag\"):\n",
    "                if is_street_name(tag):                    \n",
    "                    audit_street_type(street_types, tag.attrib['v'])\n",
    "    osm_file.close()\n",
    "    return street_types\n",
    "\n",
    "def update_name(name, mapping):\n",
    "\n",
    "    p = name.split()\n",
    "    if p[-1] in mapping:\n",
    "        p[-1] = mapping[p[-1]]\n",
    "        name = \" \".join(p)\n",
    "\n",
    "    return name\n",
    "\n",
    "def improve_street_names(filename):\n",
    "    st_types = audit(filename)\n",
    "    \n",
    "    pprint(dict(st_types))\n",
    "    show = 1\n",
    "    for st_type, ways in st_types.iteritems():\n",
    "        for name in ways:\n",
    "            better_name = update_name(name, mapping)\n",
    "            if show:\n",
    "                print \"--------------------------\"\n",
    "                print \"After update names\"\n",
    "                print \"--------------------------\"\n",
    "                show = 0\n",
    "            print name, \"=>\", better_name"
   ]
  },
  {
   "cell_type": "markdown",
   "metadata": {},
   "source": [
    "# Main"
   ]
  },
  {
   "cell_type": "code",
   "execution_count": 9,
   "metadata": {
    "collapsed": false
   },
   "outputs": [],
   "source": [
    "if False:\n",
    "    print_all_tags(filename)\n",
    "    \n",
    "if False:\n",
    "    print_top_keys(filename)\n",
    "    \n"
   ]
  },
  {
   "cell_type": "code",
   "execution_count": 11,
   "metadata": {
    "collapsed": true
   },
   "outputs": [],
   "source": [
    "\"\"\"find the 20 value for each top key\"\"\"\n",
    "\n",
    "MAX_COUNT = 20\n",
    "top_keys = ['highway','source','name','building',\n",
    "        'created_by','oneway','maxspeed','addr:street','amenity','surface','foot','leisure',\n",
    "        'layer','bicycle','ref','source:name','service','railway','landuse','operator']"
   ]
  },
  {
   "cell_type": "code",
   "execution_count": 35,
   "metadata": {
    "collapsed": false
   },
   "outputs": [],
   "source": [
    "# print the total 20 values of the top keys\n",
    "if False:\n",
    "    pprint(key_values(top_keys, MAX_COUNT))   \n",
    "\n",
    "# update maxspeed values\n",
    "if False:\n",
    "    improve_maxspeed(filename)"
   ]
  },
  {
   "cell_type": "code",
   "execution_count": 53,
   "metadata": {
    "collapsed": false
   },
   "outputs": [
    {
     "name": "stdout",
     "output_type": "stream",
     "text": [
      "{'Av.': set(['Ryan Av.']),\n",
      " 'Hwy': set(['Pacific Hwy']),\n",
      " 'St': set(['Station St']),\n",
      " 'St.': set(['Lower Almora St.'])}\n",
      "--------------------------\n",
      "After update names\n",
      "--------------------------\n",
      "Ryan Av. => Ryan Avenue\n",
      "Station St => Station Street\n",
      "Lower Almora St. => Lower Almora Street\n",
      "Pacific Hwy => Pacific Highway\n"
     ]
    }
   ],
   "source": [
    "# improve street name\n",
    "if True:\n",
    "    improve_street_names(filename)"
   ]
  },
  {
   "cell_type": "code",
   "execution_count": null,
   "metadata": {
    "collapsed": true
   },
   "outputs": [],
   "source": []
  }
 ],
 "metadata": {
  "kernelspec": {
   "display_name": "Python 2",
   "language": "python",
   "name": "python2"
  },
  "language_info": {
   "codemirror_mode": {
    "name": "ipython",
    "version": 2
   },
   "file_extension": ".py",
   "mimetype": "text/x-python",
   "name": "python",
   "nbconvert_exporter": "python",
   "pygments_lexer": "ipython2",
   "version": "2.7.11"
  }
 },
 "nbformat": 4,
 "nbformat_minor": 0
}
